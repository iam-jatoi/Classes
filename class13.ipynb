{
  "nbformat": 4,
  "nbformat_minor": 0,
  "metadata": {
    "colab": {
      "provenance": [],
      "authorship_tag": "ABX9TyP2gtsBr0Zl0GiiiPB2IIDI",
      "include_colab_link": true
    },
    "kernelspec": {
      "name": "python3",
      "display_name": "Python 3"
    },
    "language_info": {
      "name": "python"
    }
  },
  "cells": [
    {
      "cell_type": "markdown",
      "metadata": {
        "id": "view-in-github",
        "colab_type": "text"
      },
      "source": [
        "<a href=\"https://colab.research.google.com/github/Muhammad-Aneeq/GIAIC-AI-101-Python/blob/main/class13.ipynb\" target=\"_parent\"><img src=\"https://colab.research.google.com/assets/colab-badge.svg\" alt=\"Open In Colab\"/></a>"
      ]
    },
    {
      "cell_type": "markdown",
      "source": [
        "1 - is vs ==\n",
        "\n",
        "2- Generators\n",
        "\n",
        "3- List Comprehension"
      ],
      "metadata": {
        "id": "Ng46CF1SYEhG"
      }
    },
    {
      "cell_type": "code",
      "execution_count": null,
      "metadata": {
        "id": "sOP8gLAlVg8p"
      },
      "outputs": [],
      "source": [
        "# string\n",
        "# Integer\n",
        "# float\n",
        "# boolean\n",
        "# list\n",
        "# tuple\n",
        "# dict\n",
        "# set\n",
        "# None"
      ]
    },
    {
      "cell_type": "markdown",
      "source": [
        "Mutable Data Types (jo change ho ske)"
      ],
      "metadata": {
        "id": "vYh7lAZxZSnu"
      }
    },
    {
      "cell_type": "code",
      "source": [
        "# list\n",
        "# dictionary\n",
        "# set"
      ],
      "metadata": {
        "id": "RjTX0MV7ZRvk"
      },
      "execution_count": null,
      "outputs": []
    },
    {
      "cell_type": "markdown",
      "source": [
        "Immutable (jo change na ho ske)"
      ],
      "metadata": {
        "id": "P-PAHSWWZm3c"
      }
    },
    {
      "cell_type": "code",
      "source": [
        "# string\n",
        "# integer\n",
        "# boolean\n",
        "# tuple\n",
        "# float\n",
        "# None"
      ],
      "metadata": {
        "id": "1ngW6VfkYzqm"
      },
      "execution_count": null,
      "outputs": []
    },
    {
      "cell_type": "code",
      "source": [
        "dishes = [\"samose\", \"pakore\", \"fruit chat\"]\n",
        "dishes.append(\"ice cream\")\n",
        "print(dishes)"
      ],
      "metadata": {
        "colab": {
          "base_uri": "https://localhost:8080/"
        },
        "id": "WNTsfQQCZ8_X",
        "outputId": "38b1f834-21ae-4c87-e2db-ad54629c3c37"
      },
      "execution_count": null,
      "outputs": [
        {
          "output_type": "stream",
          "name": "stdout",
          "text": [
            "['samose', 'pakore', 'fruit chat', 'ice cream']\n"
          ]
        }
      ]
    },
    {
      "cell_type": "code",
      "source": [
        "name: str = \"Aneeq Khatri\"\n",
        "number: int= 20\n",
        "\n",
        "print(name)"
      ],
      "metadata": {
        "colab": {
          "base_uri": "https://localhost:8080/"
        },
        "id": "5nDAFi1WaJMq",
        "outputId": "9d167eb9-46d4-453b-b17f-154d45250a39"
      },
      "execution_count": null,
      "outputs": [
        {
          "output_type": "stream",
          "name": "stdout",
          "text": [
            "Aneeq Khatri\n"
          ]
        }
      ]
    },
    {
      "cell_type": "code",
      "source": [
        "list1 = [1,2,3,4,5]\n",
        "list2 = [1,2,3,4,5]\n",
        "\n",
        "print(list1 == list2)\n",
        "print(list1 is list2)"
      ],
      "metadata": {
        "colab": {
          "base_uri": "https://localhost:8080/"
        },
        "id": "DB3pZltOaR-7",
        "outputId": "14be8f27-5057-42d1-d4ba-2b8ce2ce8db4"
      },
      "execution_count": null,
      "outputs": [
        {
          "output_type": "stream",
          "name": "stdout",
          "text": [
            "True\n",
            "False\n"
          ]
        }
      ]
    },
    {
      "cell_type": "code",
      "source": [
        "list1 = [1,2,3,4,5]\n",
        "list2 = list1\n",
        "\n",
        "print(list1 == list2)\n",
        "print(list1 is list2)"
      ],
      "metadata": {
        "colab": {
          "base_uri": "https://localhost:8080/"
        },
        "id": "SDwIO4RfcAtx",
        "outputId": "140a2a7a-c0b8-4361-e203-bc74620f288c"
      },
      "execution_count": null,
      "outputs": [
        {
          "output_type": "stream",
          "name": "stdout",
          "text": [
            "True\n",
            "True\n"
          ]
        }
      ]
    },
    {
      "cell_type": "code",
      "source": [
        "name1 = \"Aneeq how are you? i am fine\"\n",
        "name2 = \"Aneeq how are you? i am fine\"\n",
        "num1 =\n",
        "num2 = 2.5\n",
        "\n",
        "bool1 = True\n",
        "bool2 = True\n",
        "\n",
        "print(name1 is name2)\n",
        "print(num1  is num2)\n",
        "print(bool1 is bool2)"
      ],
      "metadata": {
        "colab": {
          "base_uri": "https://localhost:8080/"
        },
        "id": "dbULJaEScnQu",
        "outputId": "f1d79c84-e493-4ae1-907d-56e3e4d25163"
      },
      "execution_count": null,
      "outputs": [
        {
          "output_type": "stream",
          "name": "stdout",
          "text": [
            "False\n",
            "False\n",
            "True\n"
          ]
        }
      ]
    },
    {
      "cell_type": "code",
      "source": [
        "list1 = [1,2,3,4,5]\n",
        "list2 = list1  # list1 ka reference\n",
        "list1.append(6) # [1,2,3,4,5,6]\n",
        "\n",
        "print(\"list2>>>\",list2) # list1 ka reference"
      ],
      "metadata": {
        "colab": {
          "base_uri": "https://localhost:8080/"
        },
        "id": "w7A0HwJEdV7q",
        "outputId": "d5fc3a8f-f4dc-45d9-f84b-fc667baa5f63"
      },
      "execution_count": null,
      "outputs": [
        {
          "output_type": "stream",
          "name": "stdout",
          "text": [
            "list2>>> [1, 2, 3, 4, 5, 6]\n"
          ]
        }
      ]
    },
    {
      "cell_type": "code",
      "source": [
        "value1: str = \"how are you? \"\n",
        "value2: str = value1 #  \"how are you? \"\n",
        "\n",
        "value1 = \"I am fine\"\n",
        "value2 = value1 # \"I am fine\"\n",
        "\n",
        "print(value2)"
      ],
      "metadata": {
        "colab": {
          "base_uri": "https://localhost:8080/"
        },
        "id": "tWYaCQ3be9L5",
        "outputId": "946191fc-e9eb-4a24-d4dc-95ca7c66a580"
      },
      "execution_count": null,
      "outputs": [
        {
          "output_type": "stream",
          "name": "stdout",
          "text": [
            "I am fine\n"
          ]
        }
      ]
    },
    {
      "cell_type": "code",
      "source": [
        "\n",
        "sqr_list = []\n",
        "def get_sqr_list(n: int):\n",
        "   for num in range(0,n):  #[0,1,2,3,4]\n",
        "    # print(\"num>>>\",num)\n",
        "    sqr_num = num * num # 0 * 0 -> 1 * 1 -> 2 * 2\n",
        "    # print(\"sqr_num>>\",sqr_num)\n",
        "    sqr_list.append(sqr_num) # [] -> [0] -> [0,1] ->  [0,1,4]\n",
        "\n",
        "get_sqr_list(5)\n",
        "print(sqr_list)"
      ],
      "metadata": {
        "colab": {
          "base_uri": "https://localhost:8080/"
        },
        "id": "OGoDoeoeffFD",
        "outputId": "ad2dbcba-4bd4-46b1-a720-e234979f74b8"
      },
      "execution_count": null,
      "outputs": [
        {
          "output_type": "stream",
          "name": "stdout",
          "text": [
            "[0, 1, 4, 9, 16]\n"
          ]
        }
      ]
    },
    {
      "cell_type": "code",
      "source": [
        "\n",
        "def get_sqr_list(n: int):\n",
        "  # for num in range(n):\n",
        "        # num * num\n",
        "    # sqr_list = [output loop with condition]\n",
        "  # sqr_list = [num * num for num in range(n)]\n",
        "  sqr_list = [num * num for num in range(5)]\n",
        "  print(\"sqr_list>>>\",sqr_list)\n",
        "\n",
        "\n",
        "get_sqr_list(5)\n"
      ],
      "metadata": {
        "colab": {
          "base_uri": "https://localhost:8080/"
        },
        "id": "DI_nipqKiAAW",
        "outputId": "9f7b1db0-99e5-4fbb-d4f1-60f80c9ceb5c"
      },
      "execution_count": null,
      "outputs": [
        {
          "output_type": "stream",
          "name": "stdout",
          "text": [
            "sqr_list>>> [0, 1, 4, 9, 16]\n"
          ]
        }
      ]
    },
    {
      "cell_type": "code",
      "source": [
        "numbers = [1,2,3,4,5,6,7,8,9,10]\n",
        "even_numbers = []\n",
        "\n",
        "# if num % 2 == 0:\n",
        "#    print(\"number is even\")\n",
        "# print(13  % 2 )\n",
        "\n",
        "for num in numbers:\n",
        "  if num % 2 == 0:\n",
        "    even_numbers.append(num)\n",
        "\n",
        "print(even_numbers)\n",
        "\n"
      ],
      "metadata": {
        "colab": {
          "base_uri": "https://localhost:8080/"
        },
        "id": "TQLt3WADkEnb",
        "outputId": "34b1bbdf-62b7-4e44-8697-5e2c751c0b40"
      },
      "execution_count": null,
      "outputs": [
        {
          "output_type": "stream",
          "name": "stdout",
          "text": [
            "[2, 4, 6, 8, 10]\n"
          ]
        }
      ]
    },
    {
      "cell_type": "code",
      "source": [
        "numbers = [1,2,3,4,5,6,7,8,9,10]\n",
        "#  num ko return kro agr num wo even he\n",
        "even_list = [num for num in numbers if num % 2 == 0]\n",
        "\n",
        "print(even_list)"
      ],
      "metadata": {
        "colab": {
          "base_uri": "https://localhost:8080/"
        },
        "id": "ioO-6D6Tlk2F",
        "outputId": "924a7726-9af1-44bf-d98e-1a2987b7dc83"
      },
      "execution_count": null,
      "outputs": [
        {
          "output_type": "stream",
          "name": "stdout",
          "text": [
            "[2, 4, 6, 8, 10]\n"
          ]
        }
      ]
    },
    {
      "cell_type": "code",
      "source": [
        "def get_numbers():\n",
        "  result = []\n",
        "  for num in range(0,11):\n",
        "    result.append(num)\n",
        "  return result\n",
        "\n",
        "\n",
        "number_list =get_numbers()\n",
        "print(number_list)\n"
      ],
      "metadata": {
        "colab": {
          "base_uri": "https://localhost:8080/"
        },
        "id": "4RJidSMPnrt8",
        "outputId": "696df60b-0971-4563-dbe9-925165614138"
      },
      "execution_count": null,
      "outputs": [
        {
          "output_type": "stream",
          "name": "stdout",
          "text": [
            "[0, 1, 2, 3, 4, 5, 6, 7, 8, 9, 10]\n"
          ]
        }
      ]
    },
    {
      "cell_type": "code",
      "source": [
        "def get_generated_values():\n",
        "  for num in range(0,11):\n",
        "    yield num  # 0 -> 1\n",
        "\n",
        "\n",
        "result = get_generated_values()\n",
        "# print(next(result))\n",
        "# print(next(result))\n",
        "# print(next(result))\n",
        "# print(next(result))\n",
        "# print(next(result))\n",
        "# print(next(result))\n",
        "# print(next(result))\n",
        "# print(next(result))\n",
        "# print(next(result))\n",
        "# print(next(result))\n",
        "# print(next(result))\n",
        "\n",
        "for num in result:\n",
        "  print(\"nuum>>>\",num)\n",
        "\n",
        "\n",
        "# print(\"result>>\",result)"
      ],
      "metadata": {
        "colab": {
          "base_uri": "https://localhost:8080/"
        },
        "id": "tsqb-L7wpAYw",
        "outputId": "c2fd169a-1c83-4ec3-f137-a094d217a1a8"
      },
      "execution_count": null,
      "outputs": [
        {
          "output_type": "stream",
          "name": "stdout",
          "text": [
            "nuum>>> 0\n",
            "nuum>>> 1\n",
            "nuum>>> 2\n",
            "nuum>>> 3\n",
            "nuum>>> 4\n",
            "nuum>>> 5\n",
            "nuum>>> 6\n",
            "nuum>>> 7\n",
            "nuum>>> 8\n",
            "nuum>>> 9\n",
            "nuum>>> 10\n"
          ]
        }
      ]
    },
    {
      "cell_type": "code",
      "source": [],
      "metadata": {
        "id": "Ru4V99y1pq32"
      },
      "execution_count": null,
      "outputs": []
    }
  ]
}