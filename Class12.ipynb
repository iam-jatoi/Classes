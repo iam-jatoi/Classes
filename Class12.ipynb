{
 "cells": [
  {
   "cell_type": "markdown",
   "metadata": {},
   "source": [
    "Recursive Functions / Recursion"
   ]
  },
  {
   "cell_type": "code",
   "execution_count": null,
   "metadata": {},
   "outputs": [
    {
     "name": "stdout",
     "output_type": "stream",
     "text": [
      "num>>> 10\n",
      "num>>> 9\n",
      "num>>> 8\n",
      "num>>> 7\n",
      "num>>> 6\n",
      "num>>> 5\n",
      "num>>> 4\n",
      "num>>> 3\n",
      "num>>> 2\n",
      "num>>> 1\n",
      "Count Down Done\n"
     ]
    }
   ],
   "source": [
    "def count_down(num: int)-> int:\n",
    "    if num == 0: # 10 <= 0\n",
    "        print(\"Count Down Done\")\n",
    "    else:\n",
    "        print(\"num>>>\",num)  # 10 -> 9 -> 8\n",
    "        count_down(num - 1) #10 - 1 = 9 - 1 = 8\n",
    "\n",
    "\n",
    "count_down(10)\n",
    "\n",
    "# factorial =  num * num-1"
   ]
  },
  {
   "cell_type": "markdown",
   "metadata": {},
   "source": [
    "Lambda Functions"
   ]
  },
  {
   "cell_type": "code",
   "execution_count": 6,
   "metadata": {},
   "outputs": [
    {
     "name": "stdout",
     "output_type": "stream",
     "text": [
      "result>>> 11\n"
     ]
    }
   ],
   "source": [
    "def add(a:int,b:int) -> int:\n",
    "    return a + b\n",
    "\n",
    "result = add(5,6) # 11\n",
    "\n",
    "print(\"result>>>\",result)"
   ]
  },
  {
   "cell_type": "code",
   "execution_count": 9,
   "metadata": {},
   "outputs": [
    {
     "name": "stdout",
     "output_type": "stream",
     "text": [
      "result>>> 11\n"
     ]
    }
   ],
   "source": [
    "# def add(a:int,b:int) -> int:\n",
    "#     return a + b\n",
    "\n",
    "# lambda parameters: expression/ statement\n",
    "add = lambda a , b: a + b\n",
    "\n",
    "result = add(5,6)\n",
    "print(\"result>>>\",result)"
   ]
  },
  {
   "cell_type": "code",
   "execution_count": 10,
   "metadata": {},
   "outputs": [
    {
     "name": "stdout",
     "output_type": "stream",
     "text": [
      "numbers [1, 2, 3, 4, 5]\n",
      "new_list [1, 4, 9, 16, 25]\n"
     ]
    }
   ],
   "source": [
    "# map\n",
    "numbers = [1,2,3,4,5]\n",
    "#         [1, 4, 9, 16, 25]\n",
    "\n",
    "def square(num: int) :\n",
    "    return num * num\n",
    "\n",
    "new_list =list(map(square,numbers))\n",
    "print(\"numbers\",numbers)\n",
    "print(\"new_list\",new_list)"
   ]
  },
  {
   "cell_type": "code",
   "execution_count": 33,
   "metadata": {},
   "outputs": [
    {
     "name": "stdout",
     "output_type": "stream",
     "text": [
      "cwd d:\\GIAIC-AI-101-Python\\class12\n",
      "list dir ['app.ipynb', 'main.py', 'test latest', 'test new2']\n"
     ]
    }
   ],
   "source": [
    "import os\n",
    "\n",
    "print(\"cwd\",os.getcwd()) # cwd -> current working directory\n",
    "print(\"list dir\",os.listdir())\n",
    "# print(\"new folder\",os.mkdir(\"test\"))\n",
    "# print(\"rename\",os.rename(\"test new\",\"test new2\"))\n",
    "os.rmdir(\"test new2\")"
   ]
  },
  {
   "cell_type": "code",
   "execution_count": 36,
   "metadata": {},
   "outputs": [
    {
     "name": "stdout",
     "output_type": "stream",
     "text": [
      "Assalamualaikum Ramzan Mubarak\n"
     ]
    }
   ],
   "source": [
    "file = open(\"text.txt\")\n",
    "print(file.read())\n",
    "file.close()"
   ]
  },
  {
   "cell_type": "code",
   "execution_count": 38,
   "metadata": {},
   "outputs": [],
   "source": [
    "file = open(\"text2.txt\",\"w\")\n",
    "file.write(\"Hi how are you?\")\n",
    "file.close()"
   ]
  },
  {
   "cell_type": "code",
   "execution_count": 46,
   "metadata": {},
   "outputs": [],
   "source": [
    "file = open(\"text2.txt\",\"w\")\n",
    "file.write(\"I am good\")\n",
    "file.close()"
   ]
  },
  {
   "cell_type": "code",
   "execution_count": null,
   "metadata": {},
   "outputs": [],
   "source": [
    "file = open(\"text2.txt\",\"a\")\n",
    "file.write(\"\\nI am fine\")\n",
    "file.close()"
   ]
  },
  {
   "cell_type": "code",
   "execution_count": null,
   "metadata": {},
   "outputs": [],
   "source": [
    "with open(\"text2.txt\",\"a\") as file:\n",
    "    file.write(\"kesa lga mera mazaq\")"
   ]
  }
 ],
 "metadata": {
  "kernelspec": {
   "display_name": "Python 3",
   "language": "python",
   "name": "python3"
  },
  "language_info": {
   "codemirror_mode": {
    "name": "ipython",
    "version": 3
   },
   "file_extension": ".py",
   "mimetype": "text/x-python",
   "name": "python",
   "nbconvert_exporter": "python",
   "pygments_lexer": "ipython3",
   "version": "3.11.9"
  }
 },
 "nbformat": 4,
 "nbformat_minor": 2
}
